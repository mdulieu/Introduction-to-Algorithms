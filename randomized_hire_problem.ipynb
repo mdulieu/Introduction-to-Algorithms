{
 "metadata": {
  "name": "",
  "signature": "sha256:3591a3b7722a03396f1e9c5e285328af5431bf315daecd67ca3c935513a5e841"
 },
 "nbformat": 3,
 "nbformat_minor": 0,
 "worksheets": [
  {
   "cells": [
    {
     "cell_type": "code",
     "collapsed": false,
     "input": [
      "import random\n",
      "people_to_hire = [87,43,65,23,65,12,1,23]\n",
      "\n"
     ],
     "language": "python",
     "metadata": {},
     "outputs": [],
     "prompt_number": 4
    },
    {
     "cell_type": "code",
     "collapsed": false,
     "input": [
      "def our_sorting_algorithm(priorities, my_array):\n",
      "    end = len(priorities)\n",
      "    for i in range(len(priorities)):\n",
      "        print i \n",
      "        for j in range(end-1):\n",
      "            print j, 'range:', end-1\n",
      "            if priorities[j] > priorities[j+1]:\n",
      "                print 'swap', i, j\n",
      "                priorities[j], priorities[j+1] =  priorities[j+1], priorities[j]\n",
      "                my_array[j], my_array[j+1] = my_array[j+1], my_array[j]\n",
      "        end -= 1  \n",
      "    return my_array        "
     ],
     "language": "python",
     "metadata": {},
     "outputs": [
      {
       "output_type": "stream",
       "stream": "stdout",
       "text": [
        "0\n",
        "0 range: 2\n",
        "swap 0 0\n",
        "1 range: 2\n",
        "swap 0 1\n",
        "1\n",
        "0 range: 1\n",
        "swap 1 0\n",
        "2\n",
        "[23, 43, 54]\n"
       ]
      }
     ],
     "prompt_number": 9
    },
    {
     "cell_type": "code",
     "collapsed": false,
     "input": [
      "def permute_by_sorting(my_array):\n",
      "    priorities = []\n",
      "    n = len(my_array)\n",
      "    for i in range(n):\n",
      "        priorities.append(random.randint(0,n**3))\n",
      "    solution = our_sorting_algorithm(priorities, my_array)\n",
      "    return solution, priorities\n",
      "       "
     ],
     "language": "python",
     "metadata": {},
     "outputs": [],
     "prompt_number": 16
    },
    {
     "cell_type": "code",
     "collapsed": false,
     "input": [
      "print permute_by_sorting(people_to_hire)"
     ],
     "language": "python",
     "metadata": {},
     "outputs": [
      {
       "output_type": "stream",
       "stream": "stdout",
       "text": [
        "0\n",
        "0 range: 7\n",
        "1 range: 7\n",
        "swap 0 1\n",
        "2 range: 7\n",
        "swap 0 2\n",
        "3 range: 7\n",
        "swap 0 3\n",
        "4 range: 7\n",
        "swap 0 4\n",
        "5 range: 7\n",
        "swap 0 5\n",
        "6 range: 7\n",
        "swap 0 6\n",
        "1\n",
        "0 range: 6\n",
        "swap 1 0\n",
        "1 range: 6\n",
        "2 range: 6\n",
        "swap 1 2\n",
        "3 range: 6\n",
        "swap 1 3\n",
        "4 range: 6\n",
        "swap 1 4\n",
        "5 range: 6\n",
        "swap 1 5\n",
        "2\n",
        "0 range: 5\n",
        "1 range: 5\n",
        "swap 2 1\n",
        "2 range: 5\n",
        "swap 2 2\n",
        "3 range: 5\n",
        "4 range: 5\n",
        "swap 2 4\n",
        "3\n",
        "0 range: 4\n",
        "1 range: 4\n",
        "2 range: 4\n",
        "3 range: 4\n",
        "swap 3 3\n",
        "4\n",
        "0 range: 3\n",
        "1 range: 3\n",
        "2 range: 3\n",
        "swap 4 2\n",
        "5\n",
        "0 range: 2\n",
        "1 range: 2\n",
        "swap 5 1\n",
        "6\n",
        "0 range: 1\n",
        "7\n",
        "([23, 12, 65, 1, 65, 23, 87, 43], [54, 122, 212, 280, 461, 483, 486, 489])\n"
       ]
      }
     ],
     "prompt_number": 17
    },
    {
     "cell_type": "code",
     "collapsed": false,
     "input": [],
     "language": "python",
     "metadata": {},
     "outputs": [],
     "prompt_number": 3
    },
    {
     "cell_type": "code",
     "collapsed": false,
     "input": [],
     "language": "python",
     "metadata": {},
     "outputs": []
    },
    {
     "cell_type": "code",
     "collapsed": false,
     "input": [],
     "language": "python",
     "metadata": {},
     "outputs": []
    }
   ],
   "metadata": {}
  }
 ]
}